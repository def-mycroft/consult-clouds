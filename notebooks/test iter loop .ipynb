{
 "cells": [
  {
   "cell_type": "code",
   "execution_count": 1,
   "id": "f1e51463-b39e-4288-9349-70ad58b579d4",
   "metadata": {},
   "outputs": [
    {
     "name": "stdout",
     "output_type": "stream",
     "text": [
      "updated '/l/gds/consult-clouds-transactions.txt'. archive id cut-storm 21f31a7e-75e5-4ab5-a1e1-b940c91a012e\n",
      "wrote '/l/obs-chaotic/cct cut 21f31a7e consult-clouds-transaction.md'\n",
      "here is updated product. I did my best to enhance it:\n",
      "# Enhanced Document\n",
      "\n",
      "## VIO: Vibe It Out — A Process for Idea Expansion and Clarity\n",
      "\n",
      "### Overview\n",
      "\n",
      "The VIO process assists users in developing and clarifying nascent ideas. It starts with a single sentence, representing an initial concept or direction. The assistant aids the user in expanding upon this through iterative, conversational interactions aimed at enriching the idea without imposing rigid structure.\n",
      "\n",
      "Each iteration follows this pattern:\n",
      "\n",
      "- The user provides one sentence.\n",
      "- The assistant replies with five concise, pointed **statements**. These statements aim to explore various facets or possibilities, inviting a broader view of the idea rather than narrowing it.\n",
      "- The user evaluates using this scale:\n",
      "  1 = not feeling it\n",
      "  2 = okay\n",
      "  3 = like it\n",
      "\n",
      "Example: `3|1|2|2|3`\n",
      "\n",
      "Each digit aligns with a statement in order, guiding the assistant's next steps:\n",
      "- A \"1\" might lead to discounting or reframing that perspective.\n",
      "- A \"3\" results in a deepened exploration.\n",
      "- A \"2\" signals a slight evolution.\n",
      "\n",
      "This sequence repeats — statements and ratings — until the user opts to stop or feels ready to conclude, indicated by typing `final response`. At this point, the assistant constructs the most complete version of the idea or product that has been developed, whether that is a plan, outline, concept, or other tangible outcome.\n",
      "\n",
      "### Tone and Adaptability\n",
      "\n",
      "The dialogue remains informal, engaging, and adaptable. It's a cooperative effort to illuminate the unclear, with the assistant adjusting tone and style responsively. The underlying approach is: *\"Let's figure this out together.\"*\n",
      "\n",
      "### The Outcome\n",
      "\n",
      "The implicit objective is to coax a \"product\" from the interaction. The effort leads to discovering and shaping this product collaboratively. When the user signals readiness, the assistant delivers this product — a structured, pragmatic outcome of the session.\n",
      "\n",
      "### Context\n",
      "\n",
      "The assistant encourages users to archive these interactions, as each session may contribute to refining the VIO process. User feedback is subtly invited to enhance the process's evolution.\n",
      "\n",
      "### Not-Haiku Influence\n",
      "\n",
      "Drawing inspiration from the **Not-Haiku** principle, products and statements should be succinct, expressive, and engaging, avoiding rigidity and embracing a natural flow.\n",
      "\n",
      "### Key reminders\n",
      "\n",
      "- Let the product evolve through freeform discovery, avoid premature structuring.\n",
      "- Suggestions are demonstrated through actions, fostering user-led developments.\n",
      "- Maintain an easy-to-read, natural communication style.\n",
      "\n",
      "### Five Questions\n",
      "\n",
      "1. Which aspects of the VIO process resonate most with you in a collaborative setting?\n",
      "2. How might the current iteration of VIO benefit from enhanced user feedback?\n",
      "3. What potential applications of VIO do you envision for AI development?\n",
      "4. In what ways can the Not-Haiku principle be further integrated into this process?\n",
      "5. How would you propose to document and leverage successful VIO sessions for future reference?\n",
      "[]\n",
      "now if you want to answer those questions, \n"
     ]
    }
   ],
   "source": [
    "from zero_consult_clouds.direful import iter as direful_iter\n",
    "\n",
    "# Initial product document (as markdown string)\n",
    "product = \"\"\"\n",
    "# Initial Doc\n",
    "\n",
    "This is an early draft. It explains something, but needs work.\n",
    "\"\"\"\n",
    "\n",
    "# Fodder to help the enhancer understand the tone or background\n",
    "prompt_fodder = \"\"\"\n",
    "I'm trying to describe a document enhancement loop for AI tools. \n",
    "The tone should be clear, helpful, with a sense of iterative process.\n",
    "\"\"\"\n",
    "\n",
    "# Run one iteration of the enhancement loop\n",
    "product, questions = direful_iter(product, prompt_fodder)\n",
    "\n",
    "# Output: updated product and list of 5 questions\n",
    "print('here is updated product. I did my best to enhance it:')\n",
    "print(product)\n",
    "print(questions)\n",
    "print('now if you want to answer those questions, ')"
   ]
  },
  {
   "cell_type": "code",
   "execution_count": null,
   "id": "b769eef8-b6f6-48e5-9b68-7e8291e2d353",
   "metadata": {},
   "outputs": [],
   "source": [
    "fodder = \"\"\"\n",
    "1. Which aspects of the VIO process resonate most with you in a collaborative setting? \n",
    "2. How might the current iteration of VIO benefit from enhanced user feedback?\n",
    "3. What potential applications of VIO do you envision for AI development?\n",
    "4. In what ways can the Not-Haiku principle be further integrated into this process?\n",
    "5. How would you propose to document and leverage successful VIO sessions for future reference?\n",
    "\"\"\""
   ]
  },
  {
   "cell_type": "code",
   "execution_count": 2,
   "id": "7badffca-b17b-4606-8b0b-5fdd1b761c02",
   "metadata": {},
   "outputs": [],
   "source": [
    "class Manager():\n",
    "    def __init__(self, log_path='/l/obs-chaotic/prompt.md', init_product='/l/obs-chaotic/prodcut.md', init_fodder=''):\n",
    "        self.log_path = log_path\n",
    "        self.product = init_product\n",
    "        self.product_fodder = ''\n",
    "    def update_log(product):\n",
    "        \"\"\"add document product and fodder to output document\"\"\"\n",
    "        with open(log_path, 'w') as f:\n",
    "            f.write(f\"\\n***\\n\\n# Document\\n{self.product}\\n***\\n# Fodder \\n{self.product_fodder}\\n***\\n\")"
   ]
  }
 ],
 "metadata": {
  "kernelspec": {
   "display_name": "Python 3 (ipykernel)",
   "language": "python",
   "name": "python3"
  },
  "language_info": {
   "codemirror_mode": {
    "name": "ipython",
    "version": 3
   },
   "file_extension": ".py",
   "mimetype": "text/x-python",
   "name": "python",
   "nbconvert_exporter": "python",
   "pygments_lexer": "ipython3",
   "version": "3.11.8"
  }
 },
 "nbformat": 4,
 "nbformat_minor": 5
}
